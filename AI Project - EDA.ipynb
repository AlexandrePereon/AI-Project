{
 "cells": [
  {
   "cell_type": "code",
   "execution_count": 23,
   "metadata": {
    "colab": {
     "base_uri": "https://localhost:8080/"
    },
    "collapsed": true,
    "executionInfo": {
     "elapsed": 4275,
     "status": "ok",
     "timestamp": 1737619497016,
     "user": {
      "displayName": "Paul B",
      "userId": "10278021948418238788"
     },
     "user_tz": -60
    },
    "id": "dk7weiR-LB0C",
    "outputId": "e649648d-d88a-427b-ed60-e64fbc25811e"
   },
   "outputs": [],
   "source": [
    "import os\n",
    "import pandas as pd\n",
    "import ydata_profiling\n",
    "\n",
    "extract_path = './AI_Project_Data'"
   ]
  },
  {
   "cell_type": "markdown",
   "metadata": {
    "id": "NBldKJGNBM86"
   },
   "source": [
    "# Import des données"
   ]
  },
  {
   "cell_type": "code",
   "execution_count": 24,
   "metadata": {
    "id": "UR3p633VLB0D"
   },
   "outputs": [],
   "source": [
    "csv_employee_survey_data = os.path.join(extract_path, 'employee_survey_data.csv')\n",
    "csv_manager_survey_data = os.path.join(extract_path, 'manager_survey_data.csv')\n",
    "csv_general_data = os.path.join(extract_path, 'general_data.csv')\n",
    "csv_out_time = os.path.join(extract_path, 'out_time.csv')\n",
    "csv_in_time = os.path.join(extract_path, 'in_time.csv')\n",
    "\n",
    "employee_survey_data = pd.read_csv(csv_employee_survey_data)\n",
    "manager_survey_data = pd.read_csv(csv_manager_survey_data)\n",
    "general_data = pd.read_csv(csv_general_data)\n",
    "out_time_raw = pd.read_csv(csv_out_time)\n",
    "in_time_raw = pd.read_csv(csv_in_time)"
   ]
  },
  {
   "cell_type": "markdown",
   "metadata": {
    "id": "ZS98fYL1BZn5"
   },
   "source": [
    "# Traitement des données"
   ]
  },
  {
   "cell_type": "markdown",
   "metadata": {
    "id": "v4grt94lD3z_"
   },
   "source": [
    "## Données global"
   ]
  },
  {
   "cell_type": "markdown",
   "metadata": {
    "id": "mfTBKDeSHoeS"
   },
   "source": [
    "### Merge"
   ]
  },
  {
   "cell_type": "code",
   "execution_count": 25,
   "metadata": {
    "id": "mautJk5rH3X1"
   },
   "outputs": [],
   "source": [
    "# Merge employee_survey_data, general_data et manager_survey_data on EmployeeID\n",
    "\n",
    "full_data = pd.merge(employee_survey_data, general_data, on='EmployeeID')\n",
    "full_data = pd.merge(full_data, manager_survey_data, on='EmployeeID')"
   ]
  },
  {
   "cell_type": "markdown",
   "metadata": {
    "id": "8BGZTlBdHsGo"
   },
   "source": [
    "### Valeurs constantes"
   ]
  },
  {
   "cell_type": "code",
   "execution_count": 26,
   "metadata": {
    "id": "0OJ6NTE7H687"
   },
   "outputs": [],
   "source": [
    "# EmployeeCount has constant value \"1\"\n",
    "# Over18 has constant value \"True\"\n",
    "# StandardHours has constant value \"8\"\n",
    "full_data.drop(columns=['EmployeeCount', 'Over18', 'StandardHours'], inplace=True)"
   ]
  },
  {
   "cell_type": "markdown",
   "metadata": {
    "id": "9GvvMd0pHwmG"
   },
   "source": [
    "### Valeurs manquantes"
   ]
  },
  {
   "cell_type": "markdown",
   "metadata": {},
   "source": [
    "#### Catégories"
   ]
  },
  {
   "cell_type": "code",
   "execution_count": 27,
   "metadata": {
    "id": "BKoXi0caEiXI"
   },
   "outputs": [],
   "source": [
    "# EnvironmentSatisfaction Missing 25 float\n",
    "# JobSatisfaction Missing 20 float\n",
    "# WorkLifeBalance Missing 38 float\n",
    "\n",
    "# Replace missing values with the mode\n",
    "mode_replace_missing = ['EnvironmentSatisfaction', 'JobSatisfaction', 'WorkLifeBalance']\n",
    "full_data[mode_replace_missing] = full_data[mode_replace_missing].fillna(full_data[mode_replace_missing].mode().iloc[0])"
   ]
  },
  {
   "cell_type": "markdown",
   "metadata": {},
   "source": [
    "#### Numérique"
   ]
  },
  {
   "cell_type": "code",
   "execution_count": 28,
   "metadata": {},
   "outputs": [],
   "source": [
    "# NumCompaniesWorked Missing 19 float\n",
    "# TotalWorkingYears Missing\t9 float\n",
    "\n",
    "# Replace missing values with the median rounded to the nearest integer\n",
    "median_replace_missing = ['NumCompaniesWorked', 'TotalWorkingYears']\n",
    "full_data[median_replace_missing] = full_data[median_replace_missing].fillna(full_data[median_replace_missing].median().round())"
   ]
  },
  {
   "cell_type": "markdown",
   "metadata": {
    "id": "DEotJ9GqH90J"
   },
   "source": [
    "### Type des valeurs"
   ]
  },
  {
   "cell_type": "markdown",
   "metadata": {},
   "source": [
    "#### Simplification des types"
   ]
  },
  {
   "cell_type": "code",
   "execution_count": 29,
   "metadata": {
    "colab": {
     "base_uri": "https://localhost:8080/",
     "height": 365
    },
    "executionInfo": {
     "elapsed": 333,
     "status": "error",
     "timestamp": 1737619518689,
     "user": {
      "displayName": "Paul B",
      "userId": "10278021948418238788"
     },
     "user_tz": -60
    },
    "id": "uc16xoReICdH",
    "outputId": "c838a506-ddd0-4f38-f0c6-9858c622f52f"
   },
   "outputs": [],
   "source": [
    "# EnvironmentSatisfaction fake float\n",
    "full_data['EnvironmentSatisfaction'] = full_data['EnvironmentSatisfaction'].astype(int)\n",
    "\n",
    "# JobSatisfaction fake float\n",
    "full_data['JobSatisfaction'] = full_data['JobSatisfaction'].astype(int)\n",
    "\n",
    "# WorkLifeBalance fake float\n",
    "full_data['WorkLifeBalance'] = full_data['WorkLifeBalance'].astype(int)\n",
    "\n",
    "# NumCompaniesWorked fake float\n",
    "full_data['NumCompaniesWorked'] = full_data['NumCompaniesWorked'].astype(int)\n",
    "\n",
    "# TotalWorkingYears fake float\n",
    "full_data['TotalWorkingYears'] = full_data['TotalWorkingYears'].astype(int)\n"
   ]
  },
  {
   "cell_type": "markdown",
   "metadata": {},
   "source": [
    "#### Conversion des type object en valeur numérique"
   ]
  },
  {
   "cell_type": "code",
   "execution_count": 30,
   "metadata": {},
   "outputs": [],
   "source": [
    "# # Attrition object to int\n",
    "full_data['Attrition'] = full_data['Attrition'].map({'No': 0, 'Yes': 1})\n",
    "\n",
    "# BusinessTravel object to int\n",
    "full_data['BusinessTravel'] = full_data['BusinessTravel'].map({'Non-Travel': 0, 'Travel_Rarely': 1, 'Travel_Frequently': 2})\n",
    "\n",
    "# Department object to int\n",
    "full_data['Department'] = full_data['Department'].map({'Research & Development': 0, 'Sales': 1, 'Human Resources': 2})\n",
    "\n",
    "# EducationField object to int\n",
    "full_data['EducationField'] = full_data['EducationField'].map({'Life Sciences': 0, 'Medical': 1, 'Marketing': 2, 'Technical Degree': 3, 'Human Resources': 4, 'Other': 5})\n",
    "\n",
    "# Gender object to int\n",
    "full_data['Gender'] = full_data['Gender'].map({'Male': 0, 'Female': 1})\n",
    "\n",
    "# JobRole object to int\n",
    "full_data['JobRole'] = full_data['JobRole'].map({'Healthcare Representative': 0, 'Research Scientist': 1, 'Sales Executive': 2, 'Human Resources': 3, 'Research Director': 4, 'Laboratory Technician': 5, 'Manufacturing Director': 6, 'Sales Representative': 7, 'Manager': 8})\n",
    "\n",
    "# MaritalStatus object to int\n",
    "full_data['MaritalStatus'] = full_data['MaritalStatus'].map({'Single': 0, 'Married': 1, 'Divorced': 2})"
   ]
  },
  {
   "cell_type": "markdown",
   "metadata": {
    "id": "59TPwMfcCE69"
   },
   "source": [
    "## in_time et out_time"
   ]
  },
  {
   "cell_type": "code",
   "execution_count": 31,
   "metadata": {
    "id": "CBmmSBCGLB0G"
   },
   "outputs": [],
   "source": [
    "# Transformer les dataframes (passer les colonnes de dates en lignes)\n",
    "in_time_melted = in_time_raw.melt(id_vars=['Unnamed: 0'], var_name='date', value_name='arrival_time')\n",
    "out_time_melted = out_time_raw.melt(id_vars=['Unnamed: 0'], var_name='date', value_name='departure_time')\n",
    "\n",
    "# Renommer la colonne EmployeeID\n",
    "in_time_melted.rename(columns={'Unnamed: 0': 'EmployeeID'}, inplace=True)\n",
    "out_time_melted.rename(columns={'Unnamed: 0': 'EmployeeID'}, inplace=True)\n",
    "\n",
    "# Fusionner les deux DataFrames sur 'id' et 'date'\n",
    "merged_clock_in = pd.merge(in_time_melted, out_time_melted, on=['EmployeeID', 'date'], how='outer')\n",
    "\n",
    "merged_clock_in['arrival_time'] = pd.to_datetime(merged_clock_in['arrival_time'])\n",
    "merged_clock_in['departure_time'] = pd.to_datetime(merged_clock_in['departure_time'])\n",
    "\n",
    "# Calculer le temps travaillé (différence entre départ et arrivée)\n",
    "merged_clock_in['worked_time'] = merged_clock_in['departure_time'] - merged_clock_in['arrival_time']\n",
    "\n",
    "# Convertir en heures pour avoir un format lisible\n",
    "merged_clock_in['worked_hours'] = merged_clock_in['worked_time'].dt.total_seconds() / 3600\n",
    "\n",
    "# Trier par id et date\n",
    "merged_clock_in.sort_values(by=['EmployeeID', 'date'], inplace=True)"
   ]
  },
  {
   "cell_type": "markdown",
   "metadata": {
    "id": "9X4CPoHcConC"
   },
   "source": [
    "# Analyse"
   ]
  },
  {
   "cell_type": "markdown",
   "metadata": {
    "id": "xnS8wIoqEn0-"
   },
   "source": [
    "## Données global"
   ]
  },
  {
   "cell_type": "code",
   "execution_count": 32,
   "metadata": {
    "colab": {
     "base_uri": "https://localhost:8080/"
    },
    "executionInfo": {
     "elapsed": 278,
     "status": "ok",
     "timestamp": 1737618224861,
     "user": {
      "displayName": "Alexandre PEREON",
      "userId": "04857776491232519334"
     },
     "user_tz": -60
    },
    "id": "LjLkFXzFHcTn",
    "outputId": "3b4e6ad5-f3b3-4c75-c7b7-079a9c918ab1"
   },
   "outputs": [
    {
     "name": "stdout",
     "output_type": "stream",
     "text": [
      "<class 'pandas.core.frame.DataFrame'>\n",
      "RangeIndex: 4410 entries, 0 to 4409\n",
      "Data columns (total 26 columns):\n",
      " #   Column                   Non-Null Count  Dtype\n",
      "---  ------                   --------------  -----\n",
      " 0   EmployeeID               4410 non-null   int64\n",
      " 1   EnvironmentSatisfaction  4410 non-null   int64\n",
      " 2   JobSatisfaction          4410 non-null   int64\n",
      " 3   WorkLifeBalance          4410 non-null   int64\n",
      " 4   Age                      4410 non-null   int64\n",
      " 5   Attrition                4410 non-null   int64\n",
      " 6   BusinessTravel           4410 non-null   int64\n",
      " 7   Department               4410 non-null   int64\n",
      " 8   DistanceFromHome         4410 non-null   int64\n",
      " 9   Education                4410 non-null   int64\n",
      " 10  EducationField           4410 non-null   int64\n",
      " 11  Gender                   4410 non-null   int64\n",
      " 12  JobLevel                 4410 non-null   int64\n",
      " 13  JobRole                  4410 non-null   int64\n",
      " 14  MaritalStatus            4410 non-null   int64\n",
      " 15  MonthlyIncome            4410 non-null   int64\n",
      " 16  NumCompaniesWorked       4410 non-null   int64\n",
      " 17  PercentSalaryHike        4410 non-null   int64\n",
      " 18  StockOptionLevel         4410 non-null   int64\n",
      " 19  TotalWorkingYears        4410 non-null   int64\n",
      " 20  TrainingTimesLastYear    4410 non-null   int64\n",
      " 21  YearsAtCompany           4410 non-null   int64\n",
      " 22  YearsSinceLastPromotion  4410 non-null   int64\n",
      " 23  YearsWithCurrManager     4410 non-null   int64\n",
      " 24  JobInvolvement           4410 non-null   int64\n",
      " 25  PerformanceRating        4410 non-null   int64\n",
      "dtypes: int64(26)\n",
      "memory usage: 895.9 KB\n"
     ]
    }
   ],
   "source": [
    "full_data.info()"
   ]
  },
  {
   "cell_type": "code",
   "execution_count": 33,
   "metadata": {
    "colab": {
     "base_uri": "https://localhost:8080/",
     "height": 918,
     "output_embedded_package_id": "1fGqVF9mw9ndmrJ3kGsmwjKZfUgHUj4O9",
     "referenced_widgets": [
      "5bc5751071f74889a96fc29c5fc8676d",
      "c5f1ecbf07ec407bb4f0a8a104a556d3",
      "eaa7d886bd004b62965753a8c9adef0c",
      "1fa8d1a80e30479a84e06e802f6c127c",
      "24a0388257cd4a7dacaa9499bb76dbb6",
      "debcd079d889414684f626ffb7c530ca",
      "539d56c1dd9a47bd8bc411d27b5679eb",
      "e2f265d557fc4502a3bc4f87089c7d4e",
      "45378331a88d49f6a3dcfc40b2fed846",
      "4e6d13cdcaa94e0c9367728ce965fdc3",
      "2345ca4b2f064deb8b0296b6fee9800a",
      "18d8c8b2a1dc4262a8b91acebaa05178",
      "eb03b25d7f054bedbb227a88f8cd1c7e",
      "9db869af6f3842ce8505d9b6096e17b7",
      "d46e9dcf008649699f79a5cd16876874",
      "dda9048369584019acfe3d9ba3b61339",
      "77f371519f7641edb3ee94da63db4540",
      "52094297d4264949bc0a0ab87fb5f0a8",
      "601ffbb9cf8340cb8bca997107802e33",
      "d4f3653acca84819974f27ed4073942c",
      "788704e078ac47b1b9b5841bfec866d1",
      "57e4354b667d43c09d7de26bc0b22b67",
      "054fea959288400ba0b8a4d450b60e5a",
      "4de02f46bade492893b5e1b2167d2510",
      "3d3981ad0c84480ab79750fff1311d8e",
      "2fb40564d1cc4744a36d96b2623ac1c9",
      "362b668b572d4d7aa3ec9d4a0070b2f4",
      "f12b223f24b64d7db4cf812d315a2a26",
      "be4fff45d1c24c5c8cc1e983c42770f3",
      "221a3f2279364ac5b99a99d472613aed",
      "7d0b7640e75948b49eced670db72851b",
      "ce3bf724562e4cf6a2318640801c08fd",
      "9cb9e93211314875814cba624b2924eb"
     ]
    },
    "executionInfo": {
     "elapsed": 47518,
     "status": "ok",
     "timestamp": 1737617242377,
     "user": {
      "displayName": "Alexandre PEREON",
      "userId": "04857776491232519334"
     },
     "user_tz": -60
    },
    "id": "jqe3H5YpEv5b",
    "outputId": "835e7488-eef6-42fe-db5d-e1d35740defb"
   },
   "outputs": [],
   "source": [
    "#full_data_report = ydata_profiling.ProfileReport(full_data, title='Full Data')\n",
    "#full_data_report.to_notebook_iframe()"
   ]
  },
  {
   "cell_type": "markdown",
   "metadata": {
    "id": "VUGobXJECwK6"
   },
   "source": [
    "## in_time and out_time data"
   ]
  },
  {
   "cell_type": "code",
   "execution_count": 34,
   "metadata": {
    "colab": {
     "base_uri": "https://localhost:8080/",
     "height": 918,
     "referenced_widgets": [
      "41410f0aec6143b3a01ffa9a8efbb5c3",
      "867927c1970e4d40b9ace425aed4443c",
      "99da869dfb7840f98a3e9f06757eaffb",
      "05e7565438d34bbea271badbed2999f0",
      "6035ab6df5834cf89285ce941e169a5a",
      "c7196ef687bb454590128c5f83d7a853",
      "14f4953b85c14213a285d132d2b1d618",
      "6feeafa8ba574bc1820218e823dec774",
      "0a0ad5e64d4b449ab696968a21206a95",
      "9ccf3459f83745b0bed69797507ca7b9",
      "93bd393612a842299f9cf62a4d73227f",
      "bd7f91e0c3f84c1795c580921f0bbb8a",
      "a67375615d104824ae2a999f14ac9aec",
      "252940bce00244539ca20b05e3ebcd94",
      "ad3878ccea0946928a4943eab9285024",
      "cb682cdd7c1a42bdbcd8fe5f3134fd3c",
      "f22e8c5f1249491c98b617d97f08e200",
      "a2925240219145be9eadb5b720f696f1",
      "ea6400b6563744bd966d71bbe5b97e04",
      "52f7aea77fd040759511167e4969ccfc",
      "6cf473b4da9f493dab1d9534c80640d5",
      "f0613f82d596412287b5f4d73bf2aa44",
      "a2bfe5a70b634fb78dc1a6d59f5b7603",
      "c92742d51f5245feb8490bd2cf9a5e59",
      "5714f99c46ed4db5826b1c2cf11fe728",
      "ba236a98dbea4db1a549ae19d30c07a0",
      "52d1fd099cfc450ea00ea444f0131822",
      "717be3762a10463db6b146c6b451575d",
      "7ba1f55fe3334823be7fe00483d6e558",
      "92114130c877432dad80de1b043c7405",
      "12714e9db17f452480ccfe86eb7a97d7",
      "b726e4970e7c4fb0b86624a760e93321",
      "e392b9c8b5af48e3bb6ac5d3fa49dc63"
     ]
    },
    "executionInfo": {
     "elapsed": 20132,
     "status": "ok",
     "timestamp": 1737617016729,
     "user": {
      "displayName": "Alexandre PEREON",
      "userId": "04857776491232519334"
     },
     "user_tz": -60
    },
    "id": "qJ6I8V5DCzF2",
    "outputId": "1ef70676-ed07-4a80-ee04-bbcba24db3e1"
   },
   "outputs": [],
   "source": [
    "#merged_clock_in_report = ydata_profiling.ProfileReport(merged_clock_in, title='Merged Data')\n",
    "#merged_clock_in_report.to_notebook_iframe()"
   ]
  },
  {
   "cell_type": "markdown",
   "metadata": {},
   "source": [
    "## Quitte l'entreprise selon chaque critère  "
   ]
  },
  {
   "cell_type": "markdown",
   "metadata": {},
   "source": [
    "### DataFrame pour chaque critère"
   ]
  },
  {
   "cell_type": "code",
   "execution_count": 35,
   "metadata": {},
   "outputs": [],
   "source": [
    "environment_satisfaction_data = full_data[[\"EmployeeID\", \"EnvironmentSatisfaction\", \"Attrition\"]]\n",
    "job_satisfaction_data = full_data[[\"EmployeeID\", \"JobSatisfaction\", \"Attrition\"]]\n",
    "workLife_balance_data = full_data[[\"EmployeeID\", \"WorkLifeBalance\", \"Attrition\"]]\n",
    "age_data = full_data[[\"EmployeeID\", \"Age\", \"Attrition\"]]\n",
    "business_travel_data = full_data[[\"EmployeeID\", \"BusinessTravel\", \"Attrition\"]]\n",
    "department_data = full_data[[\"EmployeeID\", \"Department\", \"Attrition\"]]\n",
    "distance_from_home_data = full_data[[\"EmployeeID\", \"DistanceFromHome\", \"Attrition\"]]\n",
    "education_data = full_data[[\"EmployeeID\", \"Education\", \"Attrition\"]]\n",
    "education_field_data = full_data[[\"EmployeeID\", \"EducationField\", \"Attrition\"]]\n",
    "gender_data = full_data[[\"EmployeeID\", \"Gender\", \"Attrition\"]]\n",
    "job_level_data = full_data[[\"EmployeeID\", \"JobLevel\", \"Attrition\"]]\n",
    "job_role_data = full_data[[\"EmployeeID\", \"JobRole\", \"Attrition\"]]\n",
    "marital_status_data = full_data[[\"EmployeeID\", \"MaritalStatus\", \"Attrition\"]]\n",
    "monthly_income_data = full_data[[\"EmployeeID\", \"MonthlyIncome\", \"Attrition\"]]\n",
    "num_companies_worked_data = full_data[[\"EmployeeID\", \"NumCompaniesWorked\", \"Attrition\"]]\n",
    "percent_salary_hike_data = full_data[[\"EmployeeID\", \"PercentSalaryHike\", \"Attrition\"]]\n",
    "stock_option_level_data = full_data[[\"EmployeeID\", \"StockOptionLevel\", \"Attrition\"]]\n",
    "total_working_years_data = full_data[[\"EmployeeID\", \"TotalWorkingYears\", \"Attrition\"]]\n",
    "training_times_last_year_data = full_data[[\"EmployeeID\", \"TrainingTimesLastYear\", \"Attrition\"]]\n",
    "years_at_company_data = full_data[[\"EmployeeID\", \"YearsAtCompany\", \"Attrition\"]]\n",
    "years_since_last_promotion_data = full_data[[\"EmployeeID\", \"YearsSinceLastPromotion\", \"Attrition\"]]\n",
    "years_with_curr_manager_data = full_data[[\"EmployeeID\", \"YearsWithCurrManager\", \"Attrition\"]]\n",
    "job_involvement_data = full_data[[\"EmployeeID\", \"JobInvolvement\", \"Attrition\"]]\n",
    "performance_rating_data = full_data[[\"EmployeeID\", \"PerformanceRating\", \"Attrition\"]]"
   ]
  },
  {
   "cell_type": "markdown",
   "metadata": {},
   "source": [
    "### Calcule le % pour Oui et Non"
   ]
  },
  {
   "cell_type": "code",
   "execution_count": 36,
   "metadata": {},
   "outputs": [],
   "source": [
    "def calculate_percentages(df, column_filter, column_target, filter_values, target_values,):\n",
    "    filtered_df = df[df[column_filter].isin(filter_values)]\n",
    "    total_filtered = filtered_df.shape[0]\n",
    "\n",
    "    percentages = {}\n",
    "    for target_value in target_values:\n",
    "        count = filtered_df[filtered_df[column_target] == target_value].shape[0]\n",
    "        percentages[target_value] = round((count / total_filtered * 100), 2) if total_filtered > 0 else 0\n",
    "\n",
    "    return percentages, total_filtered\n",
    "\n",
    "def calculate_percentages_values(df, column_target, filter_condition, target_values):\n",
    "    filtered_df = df[filter_condition]\n",
    "    total_filtered = filtered_df.shape[0]\n",
    "\n",
    "    percentages = {}\n",
    "    for target_value in target_values:\n",
    "        count = filtered_df[filtered_df[column_target] == target_value].shape[0]\n",
    "        percentages[target_value] = round((count / total_filtered * 100), 2) if total_filtered > 0 else 0\n",
    "\n",
    "    return percentages, total_filtered"
   ]
  },
  {
   "cell_type": "markdown",
   "metadata": {},
   "source": [
    "### Pour EnvironmentSatisfaction"
   ]
  },
  {
   "cell_type": "code",
   "execution_count": 56,
   "metadata": {},
   "outputs": [
    {
     "name": "stdout",
     "output_type": "stream",
     "text": [
      "Pourcentages pour EnvironmentSatisfaction = [1, 2]: {1: 20.05, 0: 79.95} (Nombre de lignes : 1701 )\n",
      "Pourcentages pour EnvironmentSatisfaction = [3, 4]: {1: 13.66, 0: 86.34} (Nombre de lignes : 2709 )\n"
     ]
    }
   ],
   "source": [
    "environment_satisfaction_data = full_data[[\"EmployeeID\", \"EnvironmentSatisfaction\", \"Attrition\"]]\n",
    "# Calcul des pourcentages pour EnvironmentSatisfaction = [1, 2]\n",
    "percentages_poor, count_poor = calculate_percentages(environment_satisfaction_data, \"EnvironmentSatisfaction\", \"Attrition\", [1, 2], [1, 0])\n",
    "\n",
    "# Calcul des pourcentages pour EnvironmentSatisfaction = [3, 4]\n",
    "percentages_great, count_great = calculate_percentages(environment_satisfaction_data, \"EnvironmentSatisfaction\", \"Attrition\", [3, 4], [1, 0])\n",
    "\n",
    "print(\"Pourcentages pour EnvironmentSatisfaction = [1, 2]:\", percentages_poor, \"(Nombre de lignes :\", count_poor, \")\")\n",
    "print(\"Pourcentages pour EnvironmentSatisfaction = [3, 4]:\", percentages_great, \"(Nombre de lignes :\", count_great, \")\")"
   ]
  },
  {
   "cell_type": "markdown",
   "metadata": {},
   "source": [
    "### Pour JobSatisfaction"
   ]
  },
  {
   "cell_type": "code",
   "execution_count": 38,
   "metadata": {},
   "outputs": [
    {
     "name": "stdout",
     "output_type": "stream",
     "text": [
      "Pourcentages pour JobSatisfaction = [1, 2]: {1: 19.71, 0: 80.29} (Nombre de lignes : 1700 )\n",
      "Pourcentages pour JobSatisfaction = [3, 4]: {1: 13.87, 0: 86.13} (Nombre de lignes : 2710 )\n"
     ]
    }
   ],
   "source": [
    "# Calcul des pourcentages pour JobSatisfaction = [1, 2]\n",
    "percentages_poor, count_poor = calculate_percentages(job_satisfaction_data, \"JobSatisfaction\", \"Attrition\", [1, 2], [1, 0])\n",
    "\n",
    "# Calcul des pourcentages pour JobSatisfaction = [3, 4]\n",
    "percentages_great, count_great = calculate_percentages(job_satisfaction_data, \"JobSatisfaction\",\"Attrition\", [3, 4], [1, 0])\n",
    "\n",
    "print(\"Pourcentages pour JobSatisfaction = [1, 2]:\", percentages_poor, \"(Nombre de lignes :\", count_poor, \")\")\n",
    "print(\"Pourcentages pour JobSatisfaction = [3, 4]:\", percentages_great, \"(Nombre de lignes :\", count_great, \")\")"
   ]
  },
  {
   "cell_type": "markdown",
   "metadata": {},
   "source": [
    "### Pour WorkLifeBalance"
   ]
  },
  {
   "cell_type": "code",
   "execution_count": 39,
   "metadata": {},
   "outputs": [
    {
     "name": "stdout",
     "output_type": "stream",
     "text": [
      "Pourcentages pour WorkLifeBalance = [1, 2]: (Nombre de lignes : 1258 )\n",
      "Pourcentages pour WorkLifeBalance = [3, 4]: (Nombre de lignes : 3152 )\n"
     ]
    }
   ],
   "source": [
    "# Calcul des pourcentages pour WorkLifeBalance = [1, 2]\n",
    "percentages_poor, count_poor = calculate_percentages(workLife_balance_data, \"WorkLifeBalance\", \"Attrition\", [1, 2], [1, 0])\n",
    "\n",
    "# Calcul des pourcentages pour WorkLifeBalance = [3, 4]\n",
    "percentages_great, count_great = calculate_percentages(workLife_balance_data, \"WorkLifeBalance\", \"Attrition\", [3, 4], [1, 0])\n",
    "\n",
    "print(\"Pourcentages pour WorkLifeBalance = [1, 2]:\", \"(Nombre de lignes :\", count_poor, \")\")\n",
    "print(\"Pourcentages pour WorkLifeBalance = [3, 4]:\", \"(Nombre de lignes :\", count_great, \")\")"
   ]
  },
  {
   "cell_type": "markdown",
   "metadata": {},
   "source": [
    "### Pour Age"
   ]
  },
  {
   "cell_type": "code",
   "execution_count": 40,
   "metadata": {},
   "outputs": [
    {
     "name": "stdout",
     "output_type": "stream",
     "text": [
      "Pourcentages pour Age <= 25 : {1: 35.77, 0: 64.23} (Nombre de lignes : 369 )\n",
      "Pourcentages pour 25 < Age <= 45 : {1: 14.8, 0: 85.2} (Nombre de lignes : 3222 )\n",
      "Pourcentages pour Age > 45 : {1: 12.45, 0: 87.55} (Nombre de lignes : 819 )\n"
     ]
    }
   ],
   "source": [
    "# Calcul des pourcentages pour Age <= 25\n",
    "filter_young = age_data[\"Age\"] <= 25\n",
    "percentages_young, count_young = calculate_percentages_values(age_data, \"Attrition\", filter_young, [1, 0])\n",
    "\n",
    "# Calcul des pourcentages pour 25 < Age <= 45\n",
    "filter_middle = (age_data[\"Age\"] > 25) & (age_data[\"Age\"] <= 45)\n",
    "percentages_middle, count_middle = calculate_percentages_values(age_data, \"Attrition\", filter_middle, [1, 0])\n",
    "\n",
    "# Calcul des pourcentages pour Age > 45\n",
    "filter_old = age_data[\"Age\"] > 45\n",
    "percentages_old, count_old = calculate_percentages_values(age_data, \"Attrition\", filter_old, [1, 0])\n",
    "\n",
    "\n",
    "print(\"Pourcentages pour Age <= 25 :\", percentages_young, \"(Nombre de lignes :\", count_young, \")\")\n",
    "print(\"Pourcentages pour 25 < Age <= 45 :\", percentages_middle, \"(Nombre de lignes :\", count_middle, \")\")\n",
    "print(\"Pourcentages pour Age > 45 :\", percentages_old, \"(Nombre de lignes :\", count_old, \")\")"
   ]
  },
  {
   "cell_type": "markdown",
   "metadata": {},
   "source": [
    "### Pour BusinessTravel"
   ]
  },
  {
   "cell_type": "code",
   "execution_count": 41,
   "metadata": {},
   "outputs": [
    {
     "name": "stdout",
     "output_type": "stream",
     "text": [
      "Pourcentages pour BusinessTravel = Voyage jamais : {1: 8.0, 0: 92.0} (Nombre de lignes : 450 )\n",
      "Pourcentages pour BusinessTravel = Voyage rarement : {1: 14.96, 0: 85.04} (Nombre de lignes : 3129 )\n",
      "Pourcentages pour BusinessTravel = Voyage fréquemment : {1: 24.91, 0: 75.09} (Nombre de lignes : 831 )\n"
     ]
    }
   ],
   "source": [
    "# Calcul des pourcentages pour BusinessTravel = 0 = Voyage jamais\n",
    "percentages_never, count_never = calculate_percentages(business_travel_data,\"BusinessTravel\", \"Attrition\", [0], [1, 0])\n",
    "\n",
    "# Calcul des pourcentages pour BusinessTravel = 1 = Voyage rarement\n",
    "percentages_rarely, count_rarely = calculate_percentages(business_travel_data,\"BusinessTravel\", \"Attrition\", [1], [1, 0])\n",
    "\n",
    "# Calcul des pourcentages pour BusinessTravel = 2 = Voyage fréquemment\n",
    "percentages_frequently, count_frequently = calculate_percentages(business_travel_data,\"BusinessTravel\", \"Attrition\", [2], [1, 0])\n",
    "\n",
    "\n",
    "print(\"Pourcentages pour BusinessTravel = Voyage jamais :\", percentages_never, \"(Nombre de lignes :\", count_never, \")\")\n",
    "print(\"Pourcentages pour BusinessTravel = Voyage rarement :\", percentages_rarely, \"(Nombre de lignes :\", count_rarely, \")\")\n",
    "print(\"Pourcentages pour BusinessTravel = Voyage fréquemment :\", percentages_frequently, \"(Nombre de lignes :\", count_frequently, \")\")"
   ]
  },
  {
   "cell_type": "markdown",
   "metadata": {},
   "source": [
    "### Pour Department"
   ]
  },
  {
   "cell_type": "code",
   "execution_count": 42,
   "metadata": {},
   "outputs": [
    {
     "name": "stdout",
     "output_type": "stream",
     "text": [
      "Pourcentages pour Department = Research & Development : {1: 15.71, 0: 84.29} (Nombre de lignes : 2883 )\n",
      "Pourcentages pour Department = Sales : {1: 15.02, 0: 84.98} (Nombre de lignes : 1338 )\n",
      "Pourcentages pour Department = Human Resources : {1: 30.16, 0: 69.84} (Nombre de lignes : 189 )\n"
     ]
    }
   ],
   "source": [
    "# Calcul des pourcentages pour Department = 0 = Research & Development\n",
    "percentages_rd, count_rd = calculate_percentages(department_data,\"Department\", \"Attrition\", [0], [1, 0])\n",
    "\n",
    "# Calcul des pourcentages pour Department = 1 = Sales\n",
    "percentages_sales, count_sales = calculate_percentages(department_data,\"Department\", \"Attrition\", [1], [1, 0])\n",
    "\n",
    "# Calcul des pourcentages pour Department = 2 = Human Resources\n",
    "percentages_hr, count_hr = calculate_percentages(department_data,\"Department\", \"Attrition\", [2], [1, 0])\n",
    "\n",
    "\n",
    "print(\"Pourcentages pour Department = Research & Development :\", percentages_rd, \"(Nombre de lignes :\", count_rd, \")\")\n",
    "print(\"Pourcentages pour Department = Sales :\", percentages_sales, \"(Nombre de lignes :\", count_sales, \")\")\n",
    "print(\"Pourcentages pour Department = Human Resources :\", percentages_hr, \"(Nombre de lignes :\", count_hr, \")\")"
   ]
  },
  {
   "cell_type": "markdown",
   "metadata": {},
   "source": [
    "### Pour DistanceFromHome"
   ]
  },
  {
   "cell_type": "code",
   "execution_count": 43,
   "metadata": {},
   "outputs": [
    {
     "name": "stdout",
     "output_type": "stream",
     "text": [
      "Pourcentages pour DistanceFromHome <= 10 : {1: 35.77, 0: 64.23} (Nombre de lignes : 3078 )\n",
      "Pourcentages pour 10 < DistanceFromHome <= 20 : {1: 18.33, 0: 81.67} (Nombre de lignes : 720 )\n",
      "Pourcentages pour 20 < DistanceFromHome : {1: 12.45, 0: 87.55} (Nombre de lignes : 612 )\n"
     ]
    }
   ],
   "source": [
    "distance_from_home_data.head()\n",
    "\n",
    "# Calcul des pourcentages pour DistanceFromHome <= 10\n",
    "filter_little = distance_from_home_data[\"DistanceFromHome\"] <= 10\n",
    "percentages_little,count_little = calculate_percentages_values(distance_from_home_data, \"Attrition\", filter_little, [1, 0])\n",
    "\n",
    "# Calcul des pourcentages pour 10 < DistanceFromHome <= 20\n",
    "filter_middle = (distance_from_home_data[\"DistanceFromHome\"] > 10) & (distance_from_home_data[\"DistanceFromHome\"] <= 20)\n",
    "percentages_middle,count_middle = calculate_percentages_values(distance_from_home_data, \"Attrition\", filter_middle, [1, 0])\n",
    "\n",
    "# Calcul des pourcentages pour DistanceFromHome > 20\n",
    "filter_alot = distance_from_home_data[\"DistanceFromHome\"] > 20\n",
    "percentages_alot,count_alot = calculate_percentages_values(distance_from_home_data, \"Attrition\", filter_alot, [1, 0])\n",
    "\n",
    "\n",
    "print(\"Pourcentages pour DistanceFromHome <= 10 :\", percentages_young, \"(Nombre de lignes :\", count_little, \")\")\n",
    "print(\"Pourcentages pour 10 < DistanceFromHome <= 20 :\", percentages_middle, \"(Nombre de lignes :\", count_middle, \")\")\n",
    "print(\"Pourcentages pour 20 < DistanceFromHome :\", percentages_old, \"(Nombre de lignes :\", count_alot, \")\")"
   ]
  }
 ],
 "metadata": {
  "colab": {
   "provenance": []
  },
  "kernelspec": {
   "display_name": "Python 3",
   "language": "python",
   "name": "python3"
  },
  "language_info": {
   "codemirror_mode": {
    "name": "ipython",
    "version": 3
   },
   "file_extension": ".py",
   "mimetype": "text/x-python",
   "name": "python",
   "nbconvert_exporter": "python",
   "pygments_lexer": "ipython3",
   "version": "3.12.2"
  },
  "widgets": {
   "application/vnd.jupyter.widget-state+json": {
    "054fea959288400ba0b8a4d450b60e5a": {
     "model_module": "@jupyter-widgets/controls",
     "model_module_version": "1.5.0",
     "model_name": "HBoxModel",
     "state": {
      "_dom_classes": [],
      "_model_module": "@jupyter-widgets/controls",
      "_model_module_version": "1.5.0",
      "_model_name": "HBoxModel",
      "_view_count": null,
      "_view_module": "@jupyter-widgets/controls",
      "_view_module_version": "1.5.0",
      "_view_name": "HBoxView",
      "box_style": "",
      "children": [
       "IPY_MODEL_4de02f46bade492893b5e1b2167d2510",
       "IPY_MODEL_3d3981ad0c84480ab79750fff1311d8e",
       "IPY_MODEL_2fb40564d1cc4744a36d96b2623ac1c9"
      ],
      "layout": "IPY_MODEL_362b668b572d4d7aa3ec9d4a0070b2f4"
     }
    },
    "05e7565438d34bbea271badbed2999f0": {
     "model_module": "@jupyter-widgets/controls",
     "model_module_version": "1.5.0",
     "model_name": "HTMLModel",
     "state": {
      "_dom_classes": [],
      "_model_module": "@jupyter-widgets/controls",
      "_model_module_version": "1.5.0",
      "_model_name": "HTMLModel",
      "_view_count": null,
      "_view_module": "@jupyter-widgets/controls",
      "_view_module_version": "1.5.0",
      "_view_name": "HTMLView",
      "description": "",
      "description_tooltip": null,
      "layout": "IPY_MODEL_9ccf3459f83745b0bed69797507ca7b9",
      "placeholder": "​",
      "style": "IPY_MODEL_93bd393612a842299f9cf62a4d73227f",
      "value": " 20/20 [00:22&lt;00:00,  2.10it/s, Completed]"
     }
    },
    "0a0ad5e64d4b449ab696968a21206a95": {
     "model_module": "@jupyter-widgets/controls",
     "model_module_version": "1.5.0",
     "model_name": "ProgressStyleModel",
     "state": {
      "_model_module": "@jupyter-widgets/controls",
      "_model_module_version": "1.5.0",
      "_model_name": "ProgressStyleModel",
      "_view_count": null,
      "_view_module": "@jupyter-widgets/base",
      "_view_module_version": "1.2.0",
      "_view_name": "StyleView",
      "bar_color": null,
      "description_width": ""
     }
    },
    "12714e9db17f452480ccfe86eb7a97d7": {
     "model_module": "@jupyter-widgets/controls",
     "model_module_version": "1.5.0",
     "model_name": "ProgressStyleModel",
     "state": {
      "_model_module": "@jupyter-widgets/controls",
      "_model_module_version": "1.5.0",
      "_model_name": "ProgressStyleModel",
      "_view_count": null,
      "_view_module": "@jupyter-widgets/base",
      "_view_module_version": "1.2.0",
      "_view_name": "StyleView",
      "bar_color": null,
      "description_width": ""
     }
    },
    "14f4953b85c14213a285d132d2b1d618": {
     "model_module": "@jupyter-widgets/controls",
     "model_module_version": "1.5.0",
     "model_name": "DescriptionStyleModel",
     "state": {
      "_model_module": "@jupyter-widgets/controls",
      "_model_module_version": "1.5.0",
      "_model_name": "DescriptionStyleModel",
      "_view_count": null,
      "_view_module": "@jupyter-widgets/base",
      "_view_module_version": "1.2.0",
      "_view_name": "StyleView",
      "description_width": ""
     }
    },
    "18d8c8b2a1dc4262a8b91acebaa05178": {
     "model_module": "@jupyter-widgets/controls",
     "model_module_version": "1.5.0",
     "model_name": "HBoxModel",
     "state": {
      "_dom_classes": [],
      "_model_module": "@jupyter-widgets/controls",
      "_model_module_version": "1.5.0",
      "_model_name": "HBoxModel",
      "_view_count": null,
      "_view_module": "@jupyter-widgets/controls",
      "_view_module_version": "1.5.0",
      "_view_name": "HBoxView",
      "box_style": "",
      "children": [
       "IPY_MODEL_eb03b25d7f054bedbb227a88f8cd1c7e",
       "IPY_MODEL_9db869af6f3842ce8505d9b6096e17b7",
       "IPY_MODEL_d46e9dcf008649699f79a5cd16876874"
      ],
      "layout": "IPY_MODEL_dda9048369584019acfe3d9ba3b61339"
     }
    },
    "1fa8d1a80e30479a84e06e802f6c127c": {
     "model_module": "@jupyter-widgets/controls",
     "model_module_version": "1.5.0",
     "model_name": "HTMLModel",
     "state": {
      "_dom_classes": [],
      "_model_module": "@jupyter-widgets/controls",
      "_model_module_version": "1.5.0",
      "_model_name": "HTMLModel",
      "_view_count": null,
      "_view_module": "@jupyter-widgets/controls",
      "_view_module_version": "1.5.0",
      "_view_name": "HTMLView",
      "description": "",
      "description_tooltip": null,
      "layout": "IPY_MODEL_4e6d13cdcaa94e0c9367728ce965fdc3",
      "placeholder": "​",
      "style": "IPY_MODEL_2345ca4b2f064deb8b0296b6fee9800a",
      "value": " 157/157 [00:29&lt;00:00,  3.44it/s, Completed]"
     }
    },
    "221a3f2279364ac5b99a99d472613aed": {
     "model_module": "@jupyter-widgets/base",
     "model_module_version": "1.2.0",
     "model_name": "LayoutModel",
     "state": {
      "_model_module": "@jupyter-widgets/base",
      "_model_module_version": "1.2.0",
      "_model_name": "LayoutModel",
      "_view_count": null,
      "_view_module": "@jupyter-widgets/base",
      "_view_module_version": "1.2.0",
      "_view_name": "LayoutView",
      "align_content": null,
      "align_items": null,
      "align_self": null,
      "border": null,
      "bottom": null,
      "display": null,
      "flex": null,
      "flex_flow": null,
      "grid_area": null,
      "grid_auto_columns": null,
      "grid_auto_flow": null,
      "grid_auto_rows": null,
      "grid_column": null,
      "grid_gap": null,
      "grid_row": null,
      "grid_template_areas": null,
      "grid_template_columns": null,
      "grid_template_rows": null,
      "height": null,
      "justify_content": null,
      "justify_items": null,
      "left": null,
      "margin": null,
      "max_height": null,
      "max_width": null,
      "min_height": null,
      "min_width": null,
      "object_fit": null,
      "object_position": null,
      "order": null,
      "overflow": null,
      "overflow_x": null,
      "overflow_y": null,
      "padding": null,
      "right": null,
      "top": null,
      "visibility": null,
      "width": null
     }
    },
    "2345ca4b2f064deb8b0296b6fee9800a": {
     "model_module": "@jupyter-widgets/controls",
     "model_module_version": "1.5.0",
     "model_name": "DescriptionStyleModel",
     "state": {
      "_model_module": "@jupyter-widgets/controls",
      "_model_module_version": "1.5.0",
      "_model_name": "DescriptionStyleModel",
      "_view_count": null,
      "_view_module": "@jupyter-widgets/base",
      "_view_module_version": "1.2.0",
      "_view_name": "StyleView",
      "description_width": ""
     }
    },
    "24a0388257cd4a7dacaa9499bb76dbb6": {
     "model_module": "@jupyter-widgets/base",
     "model_module_version": "1.2.0",
     "model_name": "LayoutModel",
     "state": {
      "_model_module": "@jupyter-widgets/base",
      "_model_module_version": "1.2.0",
      "_model_name": "LayoutModel",
      "_view_count": null,
      "_view_module": "@jupyter-widgets/base",
      "_view_module_version": "1.2.0",
      "_view_name": "LayoutView",
      "align_content": null,
      "align_items": null,
      "align_self": null,
      "border": null,
      "bottom": null,
      "display": null,
      "flex": null,
      "flex_flow": null,
      "grid_area": null,
      "grid_auto_columns": null,
      "grid_auto_flow": null,
      "grid_auto_rows": null,
      "grid_column": null,
      "grid_gap": null,
      "grid_row": null,
      "grid_template_areas": null,
      "grid_template_columns": null,
      "grid_template_rows": null,
      "height": null,
      "justify_content": null,
      "justify_items": null,
      "left": null,
      "margin": null,
      "max_height": null,
      "max_width": null,
      "min_height": null,
      "min_width": null,
      "object_fit": null,
      "object_position": null,
      "order": null,
      "overflow": null,
      "overflow_x": null,
      "overflow_y": null,
      "padding": null,
      "right": null,
      "top": null,
      "visibility": null,
      "width": null
     }
    },
    "252940bce00244539ca20b05e3ebcd94": {
     "model_module": "@jupyter-widgets/controls",
     "model_module_version": "1.5.0",
     "model_name": "FloatProgressModel",
     "state": {
      "_dom_classes": [],
      "_model_module": "@jupyter-widgets/controls",
      "_model_module_version": "1.5.0",
      "_model_name": "FloatProgressModel",
      "_view_count": null,
      "_view_module": "@jupyter-widgets/controls",
      "_view_module_version": "1.5.0",
      "_view_name": "ProgressView",
      "bar_style": "success",
      "description": "",
      "description_tooltip": null,
      "layout": "IPY_MODEL_ea6400b6563744bd966d71bbe5b97e04",
      "max": 1,
      "min": 0,
      "orientation": "horizontal",
      "style": "IPY_MODEL_52f7aea77fd040759511167e4969ccfc",
      "value": 1
     }
    },
    "2fb40564d1cc4744a36d96b2623ac1c9": {
     "model_module": "@jupyter-widgets/controls",
     "model_module_version": "1.5.0",
     "model_name": "HTMLModel",
     "state": {
      "_dom_classes": [],
      "_model_module": "@jupyter-widgets/controls",
      "_model_module_version": "1.5.0",
      "_model_name": "HTMLModel",
      "_view_count": null,
      "_view_module": "@jupyter-widgets/controls",
      "_view_module_version": "1.5.0",
      "_view_name": "HTMLView",
      "description": "",
      "description_tooltip": null,
      "layout": "IPY_MODEL_ce3bf724562e4cf6a2318640801c08fd",
      "placeholder": "​",
      "style": "IPY_MODEL_9cb9e93211314875814cba624b2924eb",
      "value": " 1/1 [00:03&lt;00:00,  3.69s/it]"
     }
    },
    "362b668b572d4d7aa3ec9d4a0070b2f4": {
     "model_module": "@jupyter-widgets/base",
     "model_module_version": "1.2.0",
     "model_name": "LayoutModel",
     "state": {
      "_model_module": "@jupyter-widgets/base",
      "_model_module_version": "1.2.0",
      "_model_name": "LayoutModel",
      "_view_count": null,
      "_view_module": "@jupyter-widgets/base",
      "_view_module_version": "1.2.0",
      "_view_name": "LayoutView",
      "align_content": null,
      "align_items": null,
      "align_self": null,
      "border": null,
      "bottom": null,
      "display": null,
      "flex": null,
      "flex_flow": null,
      "grid_area": null,
      "grid_auto_columns": null,
      "grid_auto_flow": null,
      "grid_auto_rows": null,
      "grid_column": null,
      "grid_gap": null,
      "grid_row": null,
      "grid_template_areas": null,
      "grid_template_columns": null,
      "grid_template_rows": null,
      "height": null,
      "justify_content": null,
      "justify_items": null,
      "left": null,
      "margin": null,
      "max_height": null,
      "max_width": null,
      "min_height": null,
      "min_width": null,
      "object_fit": null,
      "object_position": null,
      "order": null,
      "overflow": null,
      "overflow_x": null,
      "overflow_y": null,
      "padding": null,
      "right": null,
      "top": null,
      "visibility": null,
      "width": null
     }
    },
    "3d3981ad0c84480ab79750fff1311d8e": {
     "model_module": "@jupyter-widgets/controls",
     "model_module_version": "1.5.0",
     "model_name": "FloatProgressModel",
     "state": {
      "_dom_classes": [],
      "_model_module": "@jupyter-widgets/controls",
      "_model_module_version": "1.5.0",
      "_model_name": "FloatProgressModel",
      "_view_count": null,
      "_view_module": "@jupyter-widgets/controls",
      "_view_module_version": "1.5.0",
      "_view_name": "ProgressView",
      "bar_style": "success",
      "description": "",
      "description_tooltip": null,
      "layout": "IPY_MODEL_221a3f2279364ac5b99a99d472613aed",
      "max": 1,
      "min": 0,
      "orientation": "horizontal",
      "style": "IPY_MODEL_7d0b7640e75948b49eced670db72851b",
      "value": 1
     }
    },
    "41410f0aec6143b3a01ffa9a8efbb5c3": {
     "model_module": "@jupyter-widgets/controls",
     "model_module_version": "1.5.0",
     "model_name": "HBoxModel",
     "state": {
      "_dom_classes": [],
      "_model_module": "@jupyter-widgets/controls",
      "_model_module_version": "1.5.0",
      "_model_name": "HBoxModel",
      "_view_count": null,
      "_view_module": "@jupyter-widgets/controls",
      "_view_module_version": "1.5.0",
      "_view_name": "HBoxView",
      "box_style": "",
      "children": [
       "IPY_MODEL_867927c1970e4d40b9ace425aed4443c",
       "IPY_MODEL_99da869dfb7840f98a3e9f06757eaffb",
       "IPY_MODEL_05e7565438d34bbea271badbed2999f0"
      ],
      "layout": "IPY_MODEL_6035ab6df5834cf89285ce941e169a5a"
     }
    },
    "45378331a88d49f6a3dcfc40b2fed846": {
     "model_module": "@jupyter-widgets/controls",
     "model_module_version": "1.5.0",
     "model_name": "ProgressStyleModel",
     "state": {
      "_model_module": "@jupyter-widgets/controls",
      "_model_module_version": "1.5.0",
      "_model_name": "ProgressStyleModel",
      "_view_count": null,
      "_view_module": "@jupyter-widgets/base",
      "_view_module_version": "1.2.0",
      "_view_name": "StyleView",
      "bar_color": null,
      "description_width": ""
     }
    },
    "4de02f46bade492893b5e1b2167d2510": {
     "model_module": "@jupyter-widgets/controls",
     "model_module_version": "1.5.0",
     "model_name": "HTMLModel",
     "state": {
      "_dom_classes": [],
      "_model_module": "@jupyter-widgets/controls",
      "_model_module_version": "1.5.0",
      "_model_name": "HTMLModel",
      "_view_count": null,
      "_view_module": "@jupyter-widgets/controls",
      "_view_module_version": "1.5.0",
      "_view_name": "HTMLView",
      "description": "",
      "description_tooltip": null,
      "layout": "IPY_MODEL_f12b223f24b64d7db4cf812d315a2a26",
      "placeholder": "​",
      "style": "IPY_MODEL_be4fff45d1c24c5c8cc1e983c42770f3",
      "value": "Render HTML: 100%"
     }
    },
    "4e6d13cdcaa94e0c9367728ce965fdc3": {
     "model_module": "@jupyter-widgets/base",
     "model_module_version": "1.2.0",
     "model_name": "LayoutModel",
     "state": {
      "_model_module": "@jupyter-widgets/base",
      "_model_module_version": "1.2.0",
      "_model_name": "LayoutModel",
      "_view_count": null,
      "_view_module": "@jupyter-widgets/base",
      "_view_module_version": "1.2.0",
      "_view_name": "LayoutView",
      "align_content": null,
      "align_items": null,
      "align_self": null,
      "border": null,
      "bottom": null,
      "display": null,
      "flex": null,
      "flex_flow": null,
      "grid_area": null,
      "grid_auto_columns": null,
      "grid_auto_flow": null,
      "grid_auto_rows": null,
      "grid_column": null,
      "grid_gap": null,
      "grid_row": null,
      "grid_template_areas": null,
      "grid_template_columns": null,
      "grid_template_rows": null,
      "height": null,
      "justify_content": null,
      "justify_items": null,
      "left": null,
      "margin": null,
      "max_height": null,
      "max_width": null,
      "min_height": null,
      "min_width": null,
      "object_fit": null,
      "object_position": null,
      "order": null,
      "overflow": null,
      "overflow_x": null,
      "overflow_y": null,
      "padding": null,
      "right": null,
      "top": null,
      "visibility": null,
      "width": null
     }
    },
    "52094297d4264949bc0a0ab87fb5f0a8": {
     "model_module": "@jupyter-widgets/controls",
     "model_module_version": "1.5.0",
     "model_name": "DescriptionStyleModel",
     "state": {
      "_model_module": "@jupyter-widgets/controls",
      "_model_module_version": "1.5.0",
      "_model_name": "DescriptionStyleModel",
      "_view_count": null,
      "_view_module": "@jupyter-widgets/base",
      "_view_module_version": "1.2.0",
      "_view_name": "StyleView",
      "description_width": ""
     }
    },
    "52d1fd099cfc450ea00ea444f0131822": {
     "model_module": "@jupyter-widgets/base",
     "model_module_version": "1.2.0",
     "model_name": "LayoutModel",
     "state": {
      "_model_module": "@jupyter-widgets/base",
      "_model_module_version": "1.2.0",
      "_model_name": "LayoutModel",
      "_view_count": null,
      "_view_module": "@jupyter-widgets/base",
      "_view_module_version": "1.2.0",
      "_view_name": "LayoutView",
      "align_content": null,
      "align_items": null,
      "align_self": null,
      "border": null,
      "bottom": null,
      "display": null,
      "flex": null,
      "flex_flow": null,
      "grid_area": null,
      "grid_auto_columns": null,
      "grid_auto_flow": null,
      "grid_auto_rows": null,
      "grid_column": null,
      "grid_gap": null,
      "grid_row": null,
      "grid_template_areas": null,
      "grid_template_columns": null,
      "grid_template_rows": null,
      "height": null,
      "justify_content": null,
      "justify_items": null,
      "left": null,
      "margin": null,
      "max_height": null,
      "max_width": null,
      "min_height": null,
      "min_width": null,
      "object_fit": null,
      "object_position": null,
      "order": null,
      "overflow": null,
      "overflow_x": null,
      "overflow_y": null,
      "padding": null,
      "right": null,
      "top": null,
      "visibility": null,
      "width": null
     }
    },
    "52f7aea77fd040759511167e4969ccfc": {
     "model_module": "@jupyter-widgets/controls",
     "model_module_version": "1.5.0",
     "model_name": "ProgressStyleModel",
     "state": {
      "_model_module": "@jupyter-widgets/controls",
      "_model_module_version": "1.5.0",
      "_model_name": "ProgressStyleModel",
      "_view_count": null,
      "_view_module": "@jupyter-widgets/base",
      "_view_module_version": "1.2.0",
      "_view_name": "StyleView",
      "bar_color": null,
      "description_width": ""
     }
    },
    "539d56c1dd9a47bd8bc411d27b5679eb": {
     "model_module": "@jupyter-widgets/controls",
     "model_module_version": "1.5.0",
     "model_name": "DescriptionStyleModel",
     "state": {
      "_model_module": "@jupyter-widgets/controls",
      "_model_module_version": "1.5.0",
      "_model_name": "DescriptionStyleModel",
      "_view_count": null,
      "_view_module": "@jupyter-widgets/base",
      "_view_module_version": "1.2.0",
      "_view_name": "StyleView",
      "description_width": ""
     }
    },
    "5714f99c46ed4db5826b1c2cf11fe728": {
     "model_module": "@jupyter-widgets/controls",
     "model_module_version": "1.5.0",
     "model_name": "FloatProgressModel",
     "state": {
      "_dom_classes": [],
      "_model_module": "@jupyter-widgets/controls",
      "_model_module_version": "1.5.0",
      "_model_name": "FloatProgressModel",
      "_view_count": null,
      "_view_module": "@jupyter-widgets/controls",
      "_view_module_version": "1.5.0",
      "_view_name": "ProgressView",
      "bar_style": "success",
      "description": "",
      "description_tooltip": null,
      "layout": "IPY_MODEL_92114130c877432dad80de1b043c7405",
      "max": 1,
      "min": 0,
      "orientation": "horizontal",
      "style": "IPY_MODEL_12714e9db17f452480ccfe86eb7a97d7",
      "value": 1
     }
    },
    "57e4354b667d43c09d7de26bc0b22b67": {
     "model_module": "@jupyter-widgets/controls",
     "model_module_version": "1.5.0",
     "model_name": "DescriptionStyleModel",
     "state": {
      "_model_module": "@jupyter-widgets/controls",
      "_model_module_version": "1.5.0",
      "_model_name": "DescriptionStyleModel",
      "_view_count": null,
      "_view_module": "@jupyter-widgets/base",
      "_view_module_version": "1.2.0",
      "_view_name": "StyleView",
      "description_width": ""
     }
    },
    "5bc5751071f74889a96fc29c5fc8676d": {
     "model_module": "@jupyter-widgets/controls",
     "model_module_version": "1.5.0",
     "model_name": "HBoxModel",
     "state": {
      "_dom_classes": [],
      "_model_module": "@jupyter-widgets/controls",
      "_model_module_version": "1.5.0",
      "_model_name": "HBoxModel",
      "_view_count": null,
      "_view_module": "@jupyter-widgets/controls",
      "_view_module_version": "1.5.0",
      "_view_name": "HBoxView",
      "box_style": "",
      "children": [
       "IPY_MODEL_c5f1ecbf07ec407bb4f0a8a104a556d3",
       "IPY_MODEL_eaa7d886bd004b62965753a8c9adef0c",
       "IPY_MODEL_1fa8d1a80e30479a84e06e802f6c127c"
      ],
      "layout": "IPY_MODEL_24a0388257cd4a7dacaa9499bb76dbb6"
     }
    },
    "601ffbb9cf8340cb8bca997107802e33": {
     "model_module": "@jupyter-widgets/base",
     "model_module_version": "1.2.0",
     "model_name": "LayoutModel",
     "state": {
      "_model_module": "@jupyter-widgets/base",
      "_model_module_version": "1.2.0",
      "_model_name": "LayoutModel",
      "_view_count": null,
      "_view_module": "@jupyter-widgets/base",
      "_view_module_version": "1.2.0",
      "_view_name": "LayoutView",
      "align_content": null,
      "align_items": null,
      "align_self": null,
      "border": null,
      "bottom": null,
      "display": null,
      "flex": null,
      "flex_flow": null,
      "grid_area": null,
      "grid_auto_columns": null,
      "grid_auto_flow": null,
      "grid_auto_rows": null,
      "grid_column": null,
      "grid_gap": null,
      "grid_row": null,
      "grid_template_areas": null,
      "grid_template_columns": null,
      "grid_template_rows": null,
      "height": null,
      "justify_content": null,
      "justify_items": null,
      "left": null,
      "margin": null,
      "max_height": null,
      "max_width": null,
      "min_height": null,
      "min_width": null,
      "object_fit": null,
      "object_position": null,
      "order": null,
      "overflow": null,
      "overflow_x": null,
      "overflow_y": null,
      "padding": null,
      "right": null,
      "top": null,
      "visibility": null,
      "width": null
     }
    },
    "6035ab6df5834cf89285ce941e169a5a": {
     "model_module": "@jupyter-widgets/base",
     "model_module_version": "1.2.0",
     "model_name": "LayoutModel",
     "state": {
      "_model_module": "@jupyter-widgets/base",
      "_model_module_version": "1.2.0",
      "_model_name": "LayoutModel",
      "_view_count": null,
      "_view_module": "@jupyter-widgets/base",
      "_view_module_version": "1.2.0",
      "_view_name": "LayoutView",
      "align_content": null,
      "align_items": null,
      "align_self": null,
      "border": null,
      "bottom": null,
      "display": null,
      "flex": null,
      "flex_flow": null,
      "grid_area": null,
      "grid_auto_columns": null,
      "grid_auto_flow": null,
      "grid_auto_rows": null,
      "grid_column": null,
      "grid_gap": null,
      "grid_row": null,
      "grid_template_areas": null,
      "grid_template_columns": null,
      "grid_template_rows": null,
      "height": null,
      "justify_content": null,
      "justify_items": null,
      "left": null,
      "margin": null,
      "max_height": null,
      "max_width": null,
      "min_height": null,
      "min_width": null,
      "object_fit": null,
      "object_position": null,
      "order": null,
      "overflow": null,
      "overflow_x": null,
      "overflow_y": null,
      "padding": null,
      "right": null,
      "top": null,
      "visibility": null,
      "width": null
     }
    },
    "6cf473b4da9f493dab1d9534c80640d5": {
     "model_module": "@jupyter-widgets/base",
     "model_module_version": "1.2.0",
     "model_name": "LayoutModel",
     "state": {
      "_model_module": "@jupyter-widgets/base",
      "_model_module_version": "1.2.0",
      "_model_name": "LayoutModel",
      "_view_count": null,
      "_view_module": "@jupyter-widgets/base",
      "_view_module_version": "1.2.0",
      "_view_name": "LayoutView",
      "align_content": null,
      "align_items": null,
      "align_self": null,
      "border": null,
      "bottom": null,
      "display": null,
      "flex": null,
      "flex_flow": null,
      "grid_area": null,
      "grid_auto_columns": null,
      "grid_auto_flow": null,
      "grid_auto_rows": null,
      "grid_column": null,
      "grid_gap": null,
      "grid_row": null,
      "grid_template_areas": null,
      "grid_template_columns": null,
      "grid_template_rows": null,
      "height": null,
      "justify_content": null,
      "justify_items": null,
      "left": null,
      "margin": null,
      "max_height": null,
      "max_width": null,
      "min_height": null,
      "min_width": null,
      "object_fit": null,
      "object_position": null,
      "order": null,
      "overflow": null,
      "overflow_x": null,
      "overflow_y": null,
      "padding": null,
      "right": null,
      "top": null,
      "visibility": null,
      "width": null
     }
    },
    "6feeafa8ba574bc1820218e823dec774": {
     "model_module": "@jupyter-widgets/base",
     "model_module_version": "1.2.0",
     "model_name": "LayoutModel",
     "state": {
      "_model_module": "@jupyter-widgets/base",
      "_model_module_version": "1.2.0",
      "_model_name": "LayoutModel",
      "_view_count": null,
      "_view_module": "@jupyter-widgets/base",
      "_view_module_version": "1.2.0",
      "_view_name": "LayoutView",
      "align_content": null,
      "align_items": null,
      "align_self": null,
      "border": null,
      "bottom": null,
      "display": null,
      "flex": null,
      "flex_flow": null,
      "grid_area": null,
      "grid_auto_columns": null,
      "grid_auto_flow": null,
      "grid_auto_rows": null,
      "grid_column": null,
      "grid_gap": null,
      "grid_row": null,
      "grid_template_areas": null,
      "grid_template_columns": null,
      "grid_template_rows": null,
      "height": null,
      "justify_content": null,
      "justify_items": null,
      "left": null,
      "margin": null,
      "max_height": null,
      "max_width": null,
      "min_height": null,
      "min_width": null,
      "object_fit": null,
      "object_position": null,
      "order": null,
      "overflow": null,
      "overflow_x": null,
      "overflow_y": null,
      "padding": null,
      "right": null,
      "top": null,
      "visibility": null,
      "width": null
     }
    },
    "717be3762a10463db6b146c6b451575d": {
     "model_module": "@jupyter-widgets/base",
     "model_module_version": "1.2.0",
     "model_name": "LayoutModel",
     "state": {
      "_model_module": "@jupyter-widgets/base",
      "_model_module_version": "1.2.0",
      "_model_name": "LayoutModel",
      "_view_count": null,
      "_view_module": "@jupyter-widgets/base",
      "_view_module_version": "1.2.0",
      "_view_name": "LayoutView",
      "align_content": null,
      "align_items": null,
      "align_self": null,
      "border": null,
      "bottom": null,
      "display": null,
      "flex": null,
      "flex_flow": null,
      "grid_area": null,
      "grid_auto_columns": null,
      "grid_auto_flow": null,
      "grid_auto_rows": null,
      "grid_column": null,
      "grid_gap": null,
      "grid_row": null,
      "grid_template_areas": null,
      "grid_template_columns": null,
      "grid_template_rows": null,
      "height": null,
      "justify_content": null,
      "justify_items": null,
      "left": null,
      "margin": null,
      "max_height": null,
      "max_width": null,
      "min_height": null,
      "min_width": null,
      "object_fit": null,
      "object_position": null,
      "order": null,
      "overflow": null,
      "overflow_x": null,
      "overflow_y": null,
      "padding": null,
      "right": null,
      "top": null,
      "visibility": null,
      "width": null
     }
    },
    "77f371519f7641edb3ee94da63db4540": {
     "model_module": "@jupyter-widgets/base",
     "model_module_version": "1.2.0",
     "model_name": "LayoutModel",
     "state": {
      "_model_module": "@jupyter-widgets/base",
      "_model_module_version": "1.2.0",
      "_model_name": "LayoutModel",
      "_view_count": null,
      "_view_module": "@jupyter-widgets/base",
      "_view_module_version": "1.2.0",
      "_view_name": "LayoutView",
      "align_content": null,
      "align_items": null,
      "align_self": null,
      "border": null,
      "bottom": null,
      "display": null,
      "flex": null,
      "flex_flow": null,
      "grid_area": null,
      "grid_auto_columns": null,
      "grid_auto_flow": null,
      "grid_auto_rows": null,
      "grid_column": null,
      "grid_gap": null,
      "grid_row": null,
      "grid_template_areas": null,
      "grid_template_columns": null,
      "grid_template_rows": null,
      "height": null,
      "justify_content": null,
      "justify_items": null,
      "left": null,
      "margin": null,
      "max_height": null,
      "max_width": null,
      "min_height": null,
      "min_width": null,
      "object_fit": null,
      "object_position": null,
      "order": null,
      "overflow": null,
      "overflow_x": null,
      "overflow_y": null,
      "padding": null,
      "right": null,
      "top": null,
      "visibility": null,
      "width": null
     }
    },
    "788704e078ac47b1b9b5841bfec866d1": {
     "model_module": "@jupyter-widgets/base",
     "model_module_version": "1.2.0",
     "model_name": "LayoutModel",
     "state": {
      "_model_module": "@jupyter-widgets/base",
      "_model_module_version": "1.2.0",
      "_model_name": "LayoutModel",
      "_view_count": null,
      "_view_module": "@jupyter-widgets/base",
      "_view_module_version": "1.2.0",
      "_view_name": "LayoutView",
      "align_content": null,
      "align_items": null,
      "align_self": null,
      "border": null,
      "bottom": null,
      "display": null,
      "flex": null,
      "flex_flow": null,
      "grid_area": null,
      "grid_auto_columns": null,
      "grid_auto_flow": null,
      "grid_auto_rows": null,
      "grid_column": null,
      "grid_gap": null,
      "grid_row": null,
      "grid_template_areas": null,
      "grid_template_columns": null,
      "grid_template_rows": null,
      "height": null,
      "justify_content": null,
      "justify_items": null,
      "left": null,
      "margin": null,
      "max_height": null,
      "max_width": null,
      "min_height": null,
      "min_width": null,
      "object_fit": null,
      "object_position": null,
      "order": null,
      "overflow": null,
      "overflow_x": null,
      "overflow_y": null,
      "padding": null,
      "right": null,
      "top": null,
      "visibility": null,
      "width": null
     }
    },
    "7ba1f55fe3334823be7fe00483d6e558": {
     "model_module": "@jupyter-widgets/controls",
     "model_module_version": "1.5.0",
     "model_name": "DescriptionStyleModel",
     "state": {
      "_model_module": "@jupyter-widgets/controls",
      "_model_module_version": "1.5.0",
      "_model_name": "DescriptionStyleModel",
      "_view_count": null,
      "_view_module": "@jupyter-widgets/base",
      "_view_module_version": "1.2.0",
      "_view_name": "StyleView",
      "description_width": ""
     }
    },
    "7d0b7640e75948b49eced670db72851b": {
     "model_module": "@jupyter-widgets/controls",
     "model_module_version": "1.5.0",
     "model_name": "ProgressStyleModel",
     "state": {
      "_model_module": "@jupyter-widgets/controls",
      "_model_module_version": "1.5.0",
      "_model_name": "ProgressStyleModel",
      "_view_count": null,
      "_view_module": "@jupyter-widgets/base",
      "_view_module_version": "1.2.0",
      "_view_name": "StyleView",
      "bar_color": null,
      "description_width": ""
     }
    },
    "867927c1970e4d40b9ace425aed4443c": {
     "model_module": "@jupyter-widgets/controls",
     "model_module_version": "1.5.0",
     "model_name": "HTMLModel",
     "state": {
      "_dom_classes": [],
      "_model_module": "@jupyter-widgets/controls",
      "_model_module_version": "1.5.0",
      "_model_name": "HTMLModel",
      "_view_count": null,
      "_view_module": "@jupyter-widgets/controls",
      "_view_module_version": "1.5.0",
      "_view_name": "HTMLView",
      "description": "",
      "description_tooltip": null,
      "layout": "IPY_MODEL_c7196ef687bb454590128c5f83d7a853",
      "placeholder": "​",
      "style": "IPY_MODEL_14f4953b85c14213a285d132d2b1d618",
      "value": "Summarize dataset: 100%"
     }
    },
    "92114130c877432dad80de1b043c7405": {
     "model_module": "@jupyter-widgets/base",
     "model_module_version": "1.2.0",
     "model_name": "LayoutModel",
     "state": {
      "_model_module": "@jupyter-widgets/base",
      "_model_module_version": "1.2.0",
      "_model_name": "LayoutModel",
      "_view_count": null,
      "_view_module": "@jupyter-widgets/base",
      "_view_module_version": "1.2.0",
      "_view_name": "LayoutView",
      "align_content": null,
      "align_items": null,
      "align_self": null,
      "border": null,
      "bottom": null,
      "display": null,
      "flex": null,
      "flex_flow": null,
      "grid_area": null,
      "grid_auto_columns": null,
      "grid_auto_flow": null,
      "grid_auto_rows": null,
      "grid_column": null,
      "grid_gap": null,
      "grid_row": null,
      "grid_template_areas": null,
      "grid_template_columns": null,
      "grid_template_rows": null,
      "height": null,
      "justify_content": null,
      "justify_items": null,
      "left": null,
      "margin": null,
      "max_height": null,
      "max_width": null,
      "min_height": null,
      "min_width": null,
      "object_fit": null,
      "object_position": null,
      "order": null,
      "overflow": null,
      "overflow_x": null,
      "overflow_y": null,
      "padding": null,
      "right": null,
      "top": null,
      "visibility": null,
      "width": null
     }
    },
    "93bd393612a842299f9cf62a4d73227f": {
     "model_module": "@jupyter-widgets/controls",
     "model_module_version": "1.5.0",
     "model_name": "DescriptionStyleModel",
     "state": {
      "_model_module": "@jupyter-widgets/controls",
      "_model_module_version": "1.5.0",
      "_model_name": "DescriptionStyleModel",
      "_view_count": null,
      "_view_module": "@jupyter-widgets/base",
      "_view_module_version": "1.2.0",
      "_view_name": "StyleView",
      "description_width": ""
     }
    },
    "99da869dfb7840f98a3e9f06757eaffb": {
     "model_module": "@jupyter-widgets/controls",
     "model_module_version": "1.5.0",
     "model_name": "FloatProgressModel",
     "state": {
      "_dom_classes": [],
      "_model_module": "@jupyter-widgets/controls",
      "_model_module_version": "1.5.0",
      "_model_name": "FloatProgressModel",
      "_view_count": null,
      "_view_module": "@jupyter-widgets/controls",
      "_view_module_version": "1.5.0",
      "_view_name": "ProgressView",
      "bar_style": "success",
      "description": "",
      "description_tooltip": null,
      "layout": "IPY_MODEL_6feeafa8ba574bc1820218e823dec774",
      "max": 5,
      "min": 0,
      "orientation": "horizontal",
      "style": "IPY_MODEL_0a0ad5e64d4b449ab696968a21206a95",
      "value": 5
     }
    },
    "9cb9e93211314875814cba624b2924eb": {
     "model_module": "@jupyter-widgets/controls",
     "model_module_version": "1.5.0",
     "model_name": "DescriptionStyleModel",
     "state": {
      "_model_module": "@jupyter-widgets/controls",
      "_model_module_version": "1.5.0",
      "_model_name": "DescriptionStyleModel",
      "_view_count": null,
      "_view_module": "@jupyter-widgets/base",
      "_view_module_version": "1.2.0",
      "_view_name": "StyleView",
      "description_width": ""
     }
    },
    "9ccf3459f83745b0bed69797507ca7b9": {
     "model_module": "@jupyter-widgets/base",
     "model_module_version": "1.2.0",
     "model_name": "LayoutModel",
     "state": {
      "_model_module": "@jupyter-widgets/base",
      "_model_module_version": "1.2.0",
      "_model_name": "LayoutModel",
      "_view_count": null,
      "_view_module": "@jupyter-widgets/base",
      "_view_module_version": "1.2.0",
      "_view_name": "LayoutView",
      "align_content": null,
      "align_items": null,
      "align_self": null,
      "border": null,
      "bottom": null,
      "display": null,
      "flex": null,
      "flex_flow": null,
      "grid_area": null,
      "grid_auto_columns": null,
      "grid_auto_flow": null,
      "grid_auto_rows": null,
      "grid_column": null,
      "grid_gap": null,
      "grid_row": null,
      "grid_template_areas": null,
      "grid_template_columns": null,
      "grid_template_rows": null,
      "height": null,
      "justify_content": null,
      "justify_items": null,
      "left": null,
      "margin": null,
      "max_height": null,
      "max_width": null,
      "min_height": null,
      "min_width": null,
      "object_fit": null,
      "object_position": null,
      "order": null,
      "overflow": null,
      "overflow_x": null,
      "overflow_y": null,
      "padding": null,
      "right": null,
      "top": null,
      "visibility": null,
      "width": null
     }
    },
    "9db869af6f3842ce8505d9b6096e17b7": {
     "model_module": "@jupyter-widgets/controls",
     "model_module_version": "1.5.0",
     "model_name": "FloatProgressModel",
     "state": {
      "_dom_classes": [],
      "_model_module": "@jupyter-widgets/controls",
      "_model_module_version": "1.5.0",
      "_model_name": "FloatProgressModel",
      "_view_count": null,
      "_view_module": "@jupyter-widgets/controls",
      "_view_module_version": "1.5.0",
      "_view_name": "ProgressView",
      "bar_style": "success",
      "description": "",
      "description_tooltip": null,
      "layout": "IPY_MODEL_601ffbb9cf8340cb8bca997107802e33",
      "max": 1,
      "min": 0,
      "orientation": "horizontal",
      "style": "IPY_MODEL_d4f3653acca84819974f27ed4073942c",
      "value": 1
     }
    },
    "a2925240219145be9eadb5b720f696f1": {
     "model_module": "@jupyter-widgets/controls",
     "model_module_version": "1.5.0",
     "model_name": "DescriptionStyleModel",
     "state": {
      "_model_module": "@jupyter-widgets/controls",
      "_model_module_version": "1.5.0",
      "_model_name": "DescriptionStyleModel",
      "_view_count": null,
      "_view_module": "@jupyter-widgets/base",
      "_view_module_version": "1.2.0",
      "_view_name": "StyleView",
      "description_width": ""
     }
    },
    "a2bfe5a70b634fb78dc1a6d59f5b7603": {
     "model_module": "@jupyter-widgets/controls",
     "model_module_version": "1.5.0",
     "model_name": "HBoxModel",
     "state": {
      "_dom_classes": [],
      "_model_module": "@jupyter-widgets/controls",
      "_model_module_version": "1.5.0",
      "_model_name": "HBoxModel",
      "_view_count": null,
      "_view_module": "@jupyter-widgets/controls",
      "_view_module_version": "1.5.0",
      "_view_name": "HBoxView",
      "box_style": "",
      "children": [
       "IPY_MODEL_c92742d51f5245feb8490bd2cf9a5e59",
       "IPY_MODEL_5714f99c46ed4db5826b1c2cf11fe728",
       "IPY_MODEL_ba236a98dbea4db1a549ae19d30c07a0"
      ],
      "layout": "IPY_MODEL_52d1fd099cfc450ea00ea444f0131822"
     }
    },
    "a67375615d104824ae2a999f14ac9aec": {
     "model_module": "@jupyter-widgets/controls",
     "model_module_version": "1.5.0",
     "model_name": "HTMLModel",
     "state": {
      "_dom_classes": [],
      "_model_module": "@jupyter-widgets/controls",
      "_model_module_version": "1.5.0",
      "_model_name": "HTMLModel",
      "_view_count": null,
      "_view_module": "@jupyter-widgets/controls",
      "_view_module_version": "1.5.0",
      "_view_name": "HTMLView",
      "description": "",
      "description_tooltip": null,
      "layout": "IPY_MODEL_f22e8c5f1249491c98b617d97f08e200",
      "placeholder": "​",
      "style": "IPY_MODEL_a2925240219145be9eadb5b720f696f1",
      "value": "Generate report structure: 100%"
     }
    },
    "ad3878ccea0946928a4943eab9285024": {
     "model_module": "@jupyter-widgets/controls",
     "model_module_version": "1.5.0",
     "model_name": "HTMLModel",
     "state": {
      "_dom_classes": [],
      "_model_module": "@jupyter-widgets/controls",
      "_model_module_version": "1.5.0",
      "_model_name": "HTMLModel",
      "_view_count": null,
      "_view_module": "@jupyter-widgets/controls",
      "_view_module_version": "1.5.0",
      "_view_name": "HTMLView",
      "description": "",
      "description_tooltip": null,
      "layout": "IPY_MODEL_6cf473b4da9f493dab1d9534c80640d5",
      "placeholder": "​",
      "style": "IPY_MODEL_f0613f82d596412287b5f4d73bf2aa44",
      "value": " 1/1 [00:02&lt;00:00,  2.41s/it]"
     }
    },
    "b726e4970e7c4fb0b86624a760e93321": {
     "model_module": "@jupyter-widgets/base",
     "model_module_version": "1.2.0",
     "model_name": "LayoutModel",
     "state": {
      "_model_module": "@jupyter-widgets/base",
      "_model_module_version": "1.2.0",
      "_model_name": "LayoutModel",
      "_view_count": null,
      "_view_module": "@jupyter-widgets/base",
      "_view_module_version": "1.2.0",
      "_view_name": "LayoutView",
      "align_content": null,
      "align_items": null,
      "align_self": null,
      "border": null,
      "bottom": null,
      "display": null,
      "flex": null,
      "flex_flow": null,
      "grid_area": null,
      "grid_auto_columns": null,
      "grid_auto_flow": null,
      "grid_auto_rows": null,
      "grid_column": null,
      "grid_gap": null,
      "grid_row": null,
      "grid_template_areas": null,
      "grid_template_columns": null,
      "grid_template_rows": null,
      "height": null,
      "justify_content": null,
      "justify_items": null,
      "left": null,
      "margin": null,
      "max_height": null,
      "max_width": null,
      "min_height": null,
      "min_width": null,
      "object_fit": null,
      "object_position": null,
      "order": null,
      "overflow": null,
      "overflow_x": null,
      "overflow_y": null,
      "padding": null,
      "right": null,
      "top": null,
      "visibility": null,
      "width": null
     }
    },
    "ba236a98dbea4db1a549ae19d30c07a0": {
     "model_module": "@jupyter-widgets/controls",
     "model_module_version": "1.5.0",
     "model_name": "HTMLModel",
     "state": {
      "_dom_classes": [],
      "_model_module": "@jupyter-widgets/controls",
      "_model_module_version": "1.5.0",
      "_model_name": "HTMLModel",
      "_view_count": null,
      "_view_module": "@jupyter-widgets/controls",
      "_view_module_version": "1.5.0",
      "_view_name": "HTMLView",
      "description": "",
      "description_tooltip": null,
      "layout": "IPY_MODEL_b726e4970e7c4fb0b86624a760e93321",
      "placeholder": "​",
      "style": "IPY_MODEL_e392b9c8b5af48e3bb6ac5d3fa49dc63",
      "value": " 1/1 [00:00&lt;00:00,  2.77it/s]"
     }
    },
    "bd7f91e0c3f84c1795c580921f0bbb8a": {
     "model_module": "@jupyter-widgets/controls",
     "model_module_version": "1.5.0",
     "model_name": "HBoxModel",
     "state": {
      "_dom_classes": [],
      "_model_module": "@jupyter-widgets/controls",
      "_model_module_version": "1.5.0",
      "_model_name": "HBoxModel",
      "_view_count": null,
      "_view_module": "@jupyter-widgets/controls",
      "_view_module_version": "1.5.0",
      "_view_name": "HBoxView",
      "box_style": "",
      "children": [
       "IPY_MODEL_a67375615d104824ae2a999f14ac9aec",
       "IPY_MODEL_252940bce00244539ca20b05e3ebcd94",
       "IPY_MODEL_ad3878ccea0946928a4943eab9285024"
      ],
      "layout": "IPY_MODEL_cb682cdd7c1a42bdbcd8fe5f3134fd3c"
     }
    },
    "be4fff45d1c24c5c8cc1e983c42770f3": {
     "model_module": "@jupyter-widgets/controls",
     "model_module_version": "1.5.0",
     "model_name": "DescriptionStyleModel",
     "state": {
      "_model_module": "@jupyter-widgets/controls",
      "_model_module_version": "1.5.0",
      "_model_name": "DescriptionStyleModel",
      "_view_count": null,
      "_view_module": "@jupyter-widgets/base",
      "_view_module_version": "1.2.0",
      "_view_name": "StyleView",
      "description_width": ""
     }
    },
    "c5f1ecbf07ec407bb4f0a8a104a556d3": {
     "model_module": "@jupyter-widgets/controls",
     "model_module_version": "1.5.0",
     "model_name": "HTMLModel",
     "state": {
      "_dom_classes": [],
      "_model_module": "@jupyter-widgets/controls",
      "_model_module_version": "1.5.0",
      "_model_name": "HTMLModel",
      "_view_count": null,
      "_view_module": "@jupyter-widgets/controls",
      "_view_module_version": "1.5.0",
      "_view_name": "HTMLView",
      "description": "",
      "description_tooltip": null,
      "layout": "IPY_MODEL_debcd079d889414684f626ffb7c530ca",
      "placeholder": "​",
      "style": "IPY_MODEL_539d56c1dd9a47bd8bc411d27b5679eb",
      "value": "Summarize dataset: 100%"
     }
    },
    "c7196ef687bb454590128c5f83d7a853": {
     "model_module": "@jupyter-widgets/base",
     "model_module_version": "1.2.0",
     "model_name": "LayoutModel",
     "state": {
      "_model_module": "@jupyter-widgets/base",
      "_model_module_version": "1.2.0",
      "_model_name": "LayoutModel",
      "_view_count": null,
      "_view_module": "@jupyter-widgets/base",
      "_view_module_version": "1.2.0",
      "_view_name": "LayoutView",
      "align_content": null,
      "align_items": null,
      "align_self": null,
      "border": null,
      "bottom": null,
      "display": null,
      "flex": null,
      "flex_flow": null,
      "grid_area": null,
      "grid_auto_columns": null,
      "grid_auto_flow": null,
      "grid_auto_rows": null,
      "grid_column": null,
      "grid_gap": null,
      "grid_row": null,
      "grid_template_areas": null,
      "grid_template_columns": null,
      "grid_template_rows": null,
      "height": null,
      "justify_content": null,
      "justify_items": null,
      "left": null,
      "margin": null,
      "max_height": null,
      "max_width": null,
      "min_height": null,
      "min_width": null,
      "object_fit": null,
      "object_position": null,
      "order": null,
      "overflow": null,
      "overflow_x": null,
      "overflow_y": null,
      "padding": null,
      "right": null,
      "top": null,
      "visibility": null,
      "width": null
     }
    },
    "c92742d51f5245feb8490bd2cf9a5e59": {
     "model_module": "@jupyter-widgets/controls",
     "model_module_version": "1.5.0",
     "model_name": "HTMLModel",
     "state": {
      "_dom_classes": [],
      "_model_module": "@jupyter-widgets/controls",
      "_model_module_version": "1.5.0",
      "_model_name": "HTMLModel",
      "_view_count": null,
      "_view_module": "@jupyter-widgets/controls",
      "_view_module_version": "1.5.0",
      "_view_name": "HTMLView",
      "description": "",
      "description_tooltip": null,
      "layout": "IPY_MODEL_717be3762a10463db6b146c6b451575d",
      "placeholder": "​",
      "style": "IPY_MODEL_7ba1f55fe3334823be7fe00483d6e558",
      "value": "Render HTML: 100%"
     }
    },
    "cb682cdd7c1a42bdbcd8fe5f3134fd3c": {
     "model_module": "@jupyter-widgets/base",
     "model_module_version": "1.2.0",
     "model_name": "LayoutModel",
     "state": {
      "_model_module": "@jupyter-widgets/base",
      "_model_module_version": "1.2.0",
      "_model_name": "LayoutModel",
      "_view_count": null,
      "_view_module": "@jupyter-widgets/base",
      "_view_module_version": "1.2.0",
      "_view_name": "LayoutView",
      "align_content": null,
      "align_items": null,
      "align_self": null,
      "border": null,
      "bottom": null,
      "display": null,
      "flex": null,
      "flex_flow": null,
      "grid_area": null,
      "grid_auto_columns": null,
      "grid_auto_flow": null,
      "grid_auto_rows": null,
      "grid_column": null,
      "grid_gap": null,
      "grid_row": null,
      "grid_template_areas": null,
      "grid_template_columns": null,
      "grid_template_rows": null,
      "height": null,
      "justify_content": null,
      "justify_items": null,
      "left": null,
      "margin": null,
      "max_height": null,
      "max_width": null,
      "min_height": null,
      "min_width": null,
      "object_fit": null,
      "object_position": null,
      "order": null,
      "overflow": null,
      "overflow_x": null,
      "overflow_y": null,
      "padding": null,
      "right": null,
      "top": null,
      "visibility": null,
      "width": null
     }
    },
    "ce3bf724562e4cf6a2318640801c08fd": {
     "model_module": "@jupyter-widgets/base",
     "model_module_version": "1.2.0",
     "model_name": "LayoutModel",
     "state": {
      "_model_module": "@jupyter-widgets/base",
      "_model_module_version": "1.2.0",
      "_model_name": "LayoutModel",
      "_view_count": null,
      "_view_module": "@jupyter-widgets/base",
      "_view_module_version": "1.2.0",
      "_view_name": "LayoutView",
      "align_content": null,
      "align_items": null,
      "align_self": null,
      "border": null,
      "bottom": null,
      "display": null,
      "flex": null,
      "flex_flow": null,
      "grid_area": null,
      "grid_auto_columns": null,
      "grid_auto_flow": null,
      "grid_auto_rows": null,
      "grid_column": null,
      "grid_gap": null,
      "grid_row": null,
      "grid_template_areas": null,
      "grid_template_columns": null,
      "grid_template_rows": null,
      "height": null,
      "justify_content": null,
      "justify_items": null,
      "left": null,
      "margin": null,
      "max_height": null,
      "max_width": null,
      "min_height": null,
      "min_width": null,
      "object_fit": null,
      "object_position": null,
      "order": null,
      "overflow": null,
      "overflow_x": null,
      "overflow_y": null,
      "padding": null,
      "right": null,
      "top": null,
      "visibility": null,
      "width": null
     }
    },
    "d46e9dcf008649699f79a5cd16876874": {
     "model_module": "@jupyter-widgets/controls",
     "model_module_version": "1.5.0",
     "model_name": "HTMLModel",
     "state": {
      "_dom_classes": [],
      "_model_module": "@jupyter-widgets/controls",
      "_model_module_version": "1.5.0",
      "_model_name": "HTMLModel",
      "_view_count": null,
      "_view_module": "@jupyter-widgets/controls",
      "_view_module_version": "1.5.0",
      "_view_name": "HTMLView",
      "description": "",
      "description_tooltip": null,
      "layout": "IPY_MODEL_788704e078ac47b1b9b5841bfec866d1",
      "placeholder": "​",
      "style": "IPY_MODEL_57e4354b667d43c09d7de26bc0b22b67",
      "value": " 1/1 [00:10&lt;00:00, 10.46s/it]"
     }
    },
    "d4f3653acca84819974f27ed4073942c": {
     "model_module": "@jupyter-widgets/controls",
     "model_module_version": "1.5.0",
     "model_name": "ProgressStyleModel",
     "state": {
      "_model_module": "@jupyter-widgets/controls",
      "_model_module_version": "1.5.0",
      "_model_name": "ProgressStyleModel",
      "_view_count": null,
      "_view_module": "@jupyter-widgets/base",
      "_view_module_version": "1.2.0",
      "_view_name": "StyleView",
      "bar_color": null,
      "description_width": ""
     }
    },
    "dda9048369584019acfe3d9ba3b61339": {
     "model_module": "@jupyter-widgets/base",
     "model_module_version": "1.2.0",
     "model_name": "LayoutModel",
     "state": {
      "_model_module": "@jupyter-widgets/base",
      "_model_module_version": "1.2.0",
      "_model_name": "LayoutModel",
      "_view_count": null,
      "_view_module": "@jupyter-widgets/base",
      "_view_module_version": "1.2.0",
      "_view_name": "LayoutView",
      "align_content": null,
      "align_items": null,
      "align_self": null,
      "border": null,
      "bottom": null,
      "display": null,
      "flex": null,
      "flex_flow": null,
      "grid_area": null,
      "grid_auto_columns": null,
      "grid_auto_flow": null,
      "grid_auto_rows": null,
      "grid_column": null,
      "grid_gap": null,
      "grid_row": null,
      "grid_template_areas": null,
      "grid_template_columns": null,
      "grid_template_rows": null,
      "height": null,
      "justify_content": null,
      "justify_items": null,
      "left": null,
      "margin": null,
      "max_height": null,
      "max_width": null,
      "min_height": null,
      "min_width": null,
      "object_fit": null,
      "object_position": null,
      "order": null,
      "overflow": null,
      "overflow_x": null,
      "overflow_y": null,
      "padding": null,
      "right": null,
      "top": null,
      "visibility": null,
      "width": null
     }
    },
    "debcd079d889414684f626ffb7c530ca": {
     "model_module": "@jupyter-widgets/base",
     "model_module_version": "1.2.0",
     "model_name": "LayoutModel",
     "state": {
      "_model_module": "@jupyter-widgets/base",
      "_model_module_version": "1.2.0",
      "_model_name": "LayoutModel",
      "_view_count": null,
      "_view_module": "@jupyter-widgets/base",
      "_view_module_version": "1.2.0",
      "_view_name": "LayoutView",
      "align_content": null,
      "align_items": null,
      "align_self": null,
      "border": null,
      "bottom": null,
      "display": null,
      "flex": null,
      "flex_flow": null,
      "grid_area": null,
      "grid_auto_columns": null,
      "grid_auto_flow": null,
      "grid_auto_rows": null,
      "grid_column": null,
      "grid_gap": null,
      "grid_row": null,
      "grid_template_areas": null,
      "grid_template_columns": null,
      "grid_template_rows": null,
      "height": null,
      "justify_content": null,
      "justify_items": null,
      "left": null,
      "margin": null,
      "max_height": null,
      "max_width": null,
      "min_height": null,
      "min_width": null,
      "object_fit": null,
      "object_position": null,
      "order": null,
      "overflow": null,
      "overflow_x": null,
      "overflow_y": null,
      "padding": null,
      "right": null,
      "top": null,
      "visibility": null,
      "width": null
     }
    },
    "e2f265d557fc4502a3bc4f87089c7d4e": {
     "model_module": "@jupyter-widgets/base",
     "model_module_version": "1.2.0",
     "model_name": "LayoutModel",
     "state": {
      "_model_module": "@jupyter-widgets/base",
      "_model_module_version": "1.2.0",
      "_model_name": "LayoutModel",
      "_view_count": null,
      "_view_module": "@jupyter-widgets/base",
      "_view_module_version": "1.2.0",
      "_view_name": "LayoutView",
      "align_content": null,
      "align_items": null,
      "align_self": null,
      "border": null,
      "bottom": null,
      "display": null,
      "flex": null,
      "flex_flow": null,
      "grid_area": null,
      "grid_auto_columns": null,
      "grid_auto_flow": null,
      "grid_auto_rows": null,
      "grid_column": null,
      "grid_gap": null,
      "grid_row": null,
      "grid_template_areas": null,
      "grid_template_columns": null,
      "grid_template_rows": null,
      "height": null,
      "justify_content": null,
      "justify_items": null,
      "left": null,
      "margin": null,
      "max_height": null,
      "max_width": null,
      "min_height": null,
      "min_width": null,
      "object_fit": null,
      "object_position": null,
      "order": null,
      "overflow": null,
      "overflow_x": null,
      "overflow_y": null,
      "padding": null,
      "right": null,
      "top": null,
      "visibility": null,
      "width": null
     }
    },
    "e392b9c8b5af48e3bb6ac5d3fa49dc63": {
     "model_module": "@jupyter-widgets/controls",
     "model_module_version": "1.5.0",
     "model_name": "DescriptionStyleModel",
     "state": {
      "_model_module": "@jupyter-widgets/controls",
      "_model_module_version": "1.5.0",
      "_model_name": "DescriptionStyleModel",
      "_view_count": null,
      "_view_module": "@jupyter-widgets/base",
      "_view_module_version": "1.2.0",
      "_view_name": "StyleView",
      "description_width": ""
     }
    },
    "ea6400b6563744bd966d71bbe5b97e04": {
     "model_module": "@jupyter-widgets/base",
     "model_module_version": "1.2.0",
     "model_name": "LayoutModel",
     "state": {
      "_model_module": "@jupyter-widgets/base",
      "_model_module_version": "1.2.0",
      "_model_name": "LayoutModel",
      "_view_count": null,
      "_view_module": "@jupyter-widgets/base",
      "_view_module_version": "1.2.0",
      "_view_name": "LayoutView",
      "align_content": null,
      "align_items": null,
      "align_self": null,
      "border": null,
      "bottom": null,
      "display": null,
      "flex": null,
      "flex_flow": null,
      "grid_area": null,
      "grid_auto_columns": null,
      "grid_auto_flow": null,
      "grid_auto_rows": null,
      "grid_column": null,
      "grid_gap": null,
      "grid_row": null,
      "grid_template_areas": null,
      "grid_template_columns": null,
      "grid_template_rows": null,
      "height": null,
      "justify_content": null,
      "justify_items": null,
      "left": null,
      "margin": null,
      "max_height": null,
      "max_width": null,
      "min_height": null,
      "min_width": null,
      "object_fit": null,
      "object_position": null,
      "order": null,
      "overflow": null,
      "overflow_x": null,
      "overflow_y": null,
      "padding": null,
      "right": null,
      "top": null,
      "visibility": null,
      "width": null
     }
    },
    "eaa7d886bd004b62965753a8c9adef0c": {
     "model_module": "@jupyter-widgets/controls",
     "model_module_version": "1.5.0",
     "model_name": "FloatProgressModel",
     "state": {
      "_dom_classes": [],
      "_model_module": "@jupyter-widgets/controls",
      "_model_module_version": "1.5.0",
      "_model_name": "FloatProgressModel",
      "_view_count": null,
      "_view_module": "@jupyter-widgets/controls",
      "_view_module_version": "1.5.0",
      "_view_name": "ProgressView",
      "bar_style": "success",
      "description": "",
      "description_tooltip": null,
      "layout": "IPY_MODEL_e2f265d557fc4502a3bc4f87089c7d4e",
      "max": 5,
      "min": 0,
      "orientation": "horizontal",
      "style": "IPY_MODEL_45378331a88d49f6a3dcfc40b2fed846",
      "value": 5
     }
    },
    "eb03b25d7f054bedbb227a88f8cd1c7e": {
     "model_module": "@jupyter-widgets/controls",
     "model_module_version": "1.5.0",
     "model_name": "HTMLModel",
     "state": {
      "_dom_classes": [],
      "_model_module": "@jupyter-widgets/controls",
      "_model_module_version": "1.5.0",
      "_model_name": "HTMLModel",
      "_view_count": null,
      "_view_module": "@jupyter-widgets/controls",
      "_view_module_version": "1.5.0",
      "_view_name": "HTMLView",
      "description": "",
      "description_tooltip": null,
      "layout": "IPY_MODEL_77f371519f7641edb3ee94da63db4540",
      "placeholder": "​",
      "style": "IPY_MODEL_52094297d4264949bc0a0ab87fb5f0a8",
      "value": "Generate report structure: 100%"
     }
    },
    "f0613f82d596412287b5f4d73bf2aa44": {
     "model_module": "@jupyter-widgets/controls",
     "model_module_version": "1.5.0",
     "model_name": "DescriptionStyleModel",
     "state": {
      "_model_module": "@jupyter-widgets/controls",
      "_model_module_version": "1.5.0",
      "_model_name": "DescriptionStyleModel",
      "_view_count": null,
      "_view_module": "@jupyter-widgets/base",
      "_view_module_version": "1.2.0",
      "_view_name": "StyleView",
      "description_width": ""
     }
    },
    "f12b223f24b64d7db4cf812d315a2a26": {
     "model_module": "@jupyter-widgets/base",
     "model_module_version": "1.2.0",
     "model_name": "LayoutModel",
     "state": {
      "_model_module": "@jupyter-widgets/base",
      "_model_module_version": "1.2.0",
      "_model_name": "LayoutModel",
      "_view_count": null,
      "_view_module": "@jupyter-widgets/base",
      "_view_module_version": "1.2.0",
      "_view_name": "LayoutView",
      "align_content": null,
      "align_items": null,
      "align_self": null,
      "border": null,
      "bottom": null,
      "display": null,
      "flex": null,
      "flex_flow": null,
      "grid_area": null,
      "grid_auto_columns": null,
      "grid_auto_flow": null,
      "grid_auto_rows": null,
      "grid_column": null,
      "grid_gap": null,
      "grid_row": null,
      "grid_template_areas": null,
      "grid_template_columns": null,
      "grid_template_rows": null,
      "height": null,
      "justify_content": null,
      "justify_items": null,
      "left": null,
      "margin": null,
      "max_height": null,
      "max_width": null,
      "min_height": null,
      "min_width": null,
      "object_fit": null,
      "object_position": null,
      "order": null,
      "overflow": null,
      "overflow_x": null,
      "overflow_y": null,
      "padding": null,
      "right": null,
      "top": null,
      "visibility": null,
      "width": null
     }
    },
    "f22e8c5f1249491c98b617d97f08e200": {
     "model_module": "@jupyter-widgets/base",
     "model_module_version": "1.2.0",
     "model_name": "LayoutModel",
     "state": {
      "_model_module": "@jupyter-widgets/base",
      "_model_module_version": "1.2.0",
      "_model_name": "LayoutModel",
      "_view_count": null,
      "_view_module": "@jupyter-widgets/base",
      "_view_module_version": "1.2.0",
      "_view_name": "LayoutView",
      "align_content": null,
      "align_items": null,
      "align_self": null,
      "border": null,
      "bottom": null,
      "display": null,
      "flex": null,
      "flex_flow": null,
      "grid_area": null,
      "grid_auto_columns": null,
      "grid_auto_flow": null,
      "grid_auto_rows": null,
      "grid_column": null,
      "grid_gap": null,
      "grid_row": null,
      "grid_template_areas": null,
      "grid_template_columns": null,
      "grid_template_rows": null,
      "height": null,
      "justify_content": null,
      "justify_items": null,
      "left": null,
      "margin": null,
      "max_height": null,
      "max_width": null,
      "min_height": null,
      "min_width": null,
      "object_fit": null,
      "object_position": null,
      "order": null,
      "overflow": null,
      "overflow_x": null,
      "overflow_y": null,
      "padding": null,
      "right": null,
      "top": null,
      "visibility": null,
      "width": null
     }
    }
   }
  }
 },
 "nbformat": 4,
 "nbformat_minor": 0
}
